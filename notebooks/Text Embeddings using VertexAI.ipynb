{
 "cells": [
  {
   "cell_type": "markdown",
   "id": "ab4b4946-d4d4-41e8-9d30-096838be0442",
   "metadata": {},
   "source": [
    "# Initial Steps"
   ]
  },
  {
   "cell_type": "markdown",
   "id": "9caa9912-40e9-4a6a-8e11-c9462d691ab1",
   "metadata": {
    "jp-MarkdownHeadingCollapsed": true
   },
   "source": [
    "## Install Dependencies"
   ]
  },
  {
   "cell_type": "code",
   "execution_count": 23,
   "id": "7245b32a-7a1f-4870-a39c-faff2e8b4e1e",
   "metadata": {
    "scrolled": true
   },
   "outputs": [
    {
     "name": "stdout",
     "output_type": "stream",
     "text": [
      "Defaulting to user installation because normal site-packages is not writeable\n",
      "\u001b[33mWARNING: Ignoring invalid distribution -orchvision (/home/younis/.local/lib/python3.10/site-packages)\u001b[0m\u001b[33m\n",
      "\u001b[0m\u001b[33mWARNING: Ignoring invalid distribution -orchvision (/home/younis/.local/lib/python3.10/site-packages)\u001b[0m\u001b[33m\n",
      "\u001b[0mCollecting pyarrow\n",
      "  Downloading pyarrow-17.0.0-cp310-cp310-manylinux_2_28_x86_64.whl.metadata (3.3 kB)\n",
      "Requirement already satisfied: numpy>=1.16.6 in /home/younis/.local/lib/python3.10/site-packages (from pyarrow) (1.23.1)\n",
      "Downloading pyarrow-17.0.0-cp310-cp310-manylinux_2_28_x86_64.whl (39.9 MB)\n",
      "\u001b[2K   \u001b[38;2;114;156;31m━━━━━━━━━━━━━━━━━━━━━━━━━━━━━━━━━━━━━━━━\u001b[0m \u001b[32m39.9/39.9 MB\u001b[0m \u001b[31m3.0 MB/s\u001b[0m eta \u001b[36m0:00:00\u001b[0mm eta \u001b[36m0:00:01\u001b[0m[36m0:00:01\u001b[0m\n",
      "\u001b[?25h\u001b[33mWARNING: Ignoring invalid distribution -orchvision (/home/younis/.local/lib/python3.10/site-packages)\u001b[0m\u001b[33m\n",
      "\u001b[0mInstalling collected packages: pyarrow\n",
      "\u001b[33mWARNING: Ignoring invalid distribution -orchvision (/home/younis/.local/lib/python3.10/site-packages)\u001b[0m\u001b[33m\n",
      "\u001b[0mSuccessfully installed pyarrow-17.0.0\n"
     ]
    }
   ],
   "source": [
    "# !pip install --upgrade pip\n",
    "# !pip install google-cloud-aiplatform\n",
    "# !pip install scikit-learn\n",
    "# !pip install mplcursors\n",
    "# !pip install ipympl\n",
    "!pip install pyarrow\n"
   ]
  },
  {
   "cell_type": "code",
   "execution_count": 49,
   "id": "b15494c2-181b-49e3-828a-2784d2bfdac1",
   "metadata": {},
   "outputs": [],
   "source": [
    "# %cd ..\n",
    "# !ls\n",
    "!source llm-venv/bin/activate"
   ]
  },
  {
   "cell_type": "markdown",
   "id": "778fc50f-ae83-430b-aea1-4b57867c5f93",
   "metadata": {
    "jp-MarkdownHeadingCollapsed": true
   },
   "source": [
    "## Setup GCP and VertexAI"
   ]
  },
  {
   "cell_type": "code",
   "execution_count": 1,
   "id": "3c8f18cd-c311-4d9f-9b6c-87b05a7a35d8",
   "metadata": {},
   "outputs": [],
   "source": [
    "import json\n",
    "with open(\"../resources/config.json\") as f:\n",
    "    config = json.load(f)\n",
    "    "
   ]
  },
  {
   "cell_type": "code",
   "execution_count": 2,
   "id": "ef1c154b-1ffc-4111-ae7d-60ad4ba0660d",
   "metadata": {},
   "outputs": [],
   "source": [
    "from google.auth.transport.requests import Request\n",
    "from google.oauth2.service_account import Credentials"
   ]
  },
  {
   "cell_type": "code",
   "execution_count": 3,
   "id": "d4f5605d-0b30-45f7-b055-1f322e6672e0",
   "metadata": {},
   "outputs": [],
   "source": [
    "# Path to your service account key file\n",
    "key_path = \"../resources/keys.json\" #Path to the json key associated with your service account from google cloud"
   ]
  },
  {
   "cell_type": "code",
   "execution_count": 4,
   "id": "f14e6562-e2b1-4352-a6f9-e82acbc40652",
   "metadata": {},
   "outputs": [],
   "source": [
    "# Create credentials object\n",
    "\n",
    "credentials = Credentials.from_service_account_file(\n",
    "    key_path,\n",
    "    scopes=['https://www.googleapis.com/auth/cloud-platform'])\n",
    "\n",
    "if credentials.expired:\n",
    "    credentials.refresh(Request())"
   ]
  },
  {
   "cell_type": "code",
   "execution_count": 5,
   "id": "1e2c7ff8-3fec-4e53-a526-2141664b9881",
   "metadata": {},
   "outputs": [],
   "source": [
    "# Connect to vertexAI\n",
    "import vertexai\n",
    "\n",
    "PROJECT_ID = config['gcp']['project_id']\n",
    "REGION = config['gcp']['region']\n",
    "\n",
    "# initialize vertex\n",
    "vertexai.init(project = PROJECT_ID, location = REGION, credentials = credentials)"
   ]
  },
  {
   "cell_type": "markdown",
   "id": "e0cdbbd6-bcce-4b53-9c51-c97f20c61716",
   "metadata": {
    "jp-MarkdownHeadingCollapsed": true
   },
   "source": [
    "## Get start with text embeddings"
   ]
  },
  {
   "cell_type": "code",
   "execution_count": 10,
   "id": "ba15dca0-2ce5-4f4b-bb2e-c020772ead80",
   "metadata": {},
   "outputs": [],
   "source": [
    "from vertexai.language_models import TextEmbeddingModel"
   ]
  },
  {
   "cell_type": "code",
   "execution_count": 11,
   "id": "7cb5df6c-fb5f-4b14-9891-67cf4357a461",
   "metadata": {},
   "outputs": [],
   "source": [
    "# load the model\n",
    "\n",
    "embedding_model = TextEmbeddingModel.from_pretrained(\n",
    "    \"textembedding-gecko\")"
   ]
  },
  {
   "cell_type": "code",
   "execution_count": 8,
   "id": "9cadc896-ae56-4636-822d-5c94d4d5172f",
   "metadata": {},
   "outputs": [],
   "source": [
    "# Generate word embeddigs\n",
    "# The returned object is a list with a single TextEmbedding object.\n",
    "# The TextEmbedding.values field stores the embeddings in a Python list.\n",
    "\n",
    "embedding = embedding_model.get_embeddings(\n",
    "    [\"life\"]\n",
    ")"
   ]
  },
  {
   "cell_type": "code",
   "execution_count": 10,
   "id": "dfc7df60-465e-40e3-ade4-7c4a334b7b20",
   "metadata": {},
   "outputs": [
    {
     "name": "stdout",
     "output_type": "stream",
     "text": [
      "Length of vector = 768\n",
      "[0.013755870051681995, -0.03912805765867233, -0.008546194061636925, -0.02595570497214794, 0.01972811669111252, -0.014042137190699577, -0.006056010257452726, -0.010783486068248749, -0.0036132442764937878, -0.00030527994385920465]\n"
     ]
    }
   ],
   "source": [
    "# The TextEmbedding.values field stores the embeddings in a Python list.\n",
    "vector = embedding[0].values\n",
    "\n",
    "print(f\"Length of vector = {len(vector)}\")\n",
    "print(vector[:10])"
   ]
  },
  {
   "cell_type": "code",
   "execution_count": 22,
   "id": "4c03ccd7-2c0b-4a33-a11b-131a174d1248",
   "metadata": {},
   "outputs": [],
   "source": [
    "# Generate sentence embeddings\n",
    "sen1 = [\"what computer system\"]\n",
    "sen2 = [\"Explain life\"]\n",
    "\n",
    "emb1 = embedding_model.get_embeddings(sen1)\n",
    "emb2 = embedding_model.get_embeddings(sen2)"
   ]
  },
  {
   "cell_type": "code",
   "execution_count": 23,
   "id": "3cb4dfd1-ea9e-4e19-9dea-6ac64942dca9",
   "metadata": {},
   "outputs": [],
   "source": [
    "# compare two embeddings\n",
    "from sklearn.metrics.pairwise import cosine_similarity\n",
    "\n",
    "# first get the vectors\n",
    "vec1 = [emb1[0].values]\n",
    "vec2 = [emb2[0].values]"
   ]
  },
  {
   "cell_type": "code",
   "execution_count": 24,
   "id": "7cf3c12e-c985-4d31-9838-c83fe1275712",
   "metadata": {},
   "outputs": [
    {
     "name": "stdout",
     "output_type": "stream",
     "text": [
      "[[0.55529533]]\n"
     ]
    }
   ],
   "source": [
    "print(cosine_similarity(vec1,vec2))"
   ]
  },
  {
   "cell_type": "markdown",
   "id": "c3a392f4-797e-452a-87a2-cf8b2c56ffbe",
   "metadata": {
    "jp-MarkdownHeadingCollapsed": true
   },
   "source": [
    "## Understand Embeddings"
   ]
  },
  {
   "cell_type": "raw",
   "id": "4779dd07-ee4e-4198-aeb5-658805431377",
   "metadata": {},
   "source": [
    "- Embedding is a way of representing data as points in space where the locations are semantically meaningful\n",
    "- How embeddigs are computed\n",
    "    - Simple Method: Embed each word separately, and then take mean of all the embedings.\n",
    "    - Modern Embeddings: \n",
    "        - Use a transformer neural network to compute context-aware representation of each word, then take avarage.\n",
    "        - Compute embeddings for each token (sub-word) that is the base or novel words.    \n",
    "    "
   ]
  },
  {
   "cell_type": "markdown",
   "id": "a7cbe470-c4f1-4565-818f-bd21b4860a73",
   "metadata": {
    "jp-MarkdownHeadingCollapsed": true
   },
   "source": [
    "## Visualizing Embeddings"
   ]
  },
  {
   "cell_type": "code",
   "execution_count": 12,
   "id": "edd5424c-848c-484a-9e40-6b8e54e8bd4d",
   "metadata": {},
   "outputs": [],
   "source": [
    "in_1 = \"Missing flamingo discovered at swimming pool\"\n",
    "\n",
    "in_2 = \"Sea otter spotted on surfboard by beach\"\n",
    "\n",
    "in_3 = \"Baby panda enjoys boat ride\"\n",
    "\n",
    "\n",
    "in_4 = \"Breakfast themed food truck beloved by all!\"\n",
    "\n",
    "in_5 = \"New curry restaurant aims to please!\"\n",
    "\n",
    "\n",
    "in_6 = \"Python developers are wonderful people\"\n",
    "\n",
    "in_7 = \"TypeScript, C++ or Java? All are great!\" \n",
    "\n",
    "\n",
    "input_text_lst_news = [in_1, in_2, in_3, in_4, in_5, in_6, in_7]"
   ]
  },
  {
   "cell_type": "code",
   "execution_count": 13,
   "id": "e7fe67a1-5f5a-4db4-90ba-dc57ca667df6",
   "metadata": {},
   "outputs": [],
   "source": [
    "import numpy as np"
   ]
  },
  {
   "cell_type": "code",
   "execution_count": 14,
   "id": "032b0301-8ded-415c-a216-1b3407831b8f",
   "metadata": {},
   "outputs": [],
   "source": [
    "embeddings = []\n",
    "for inp_text in input_text_lst_news:\n",
    "    emb = embedding_model.get_embeddings(\n",
    "        [inp_text])[0].values\n",
    "    embeddings.append(emb)\n",
    "\n",
    "embedding_array = np.array(embeddings)"
   ]
  },
  {
   "cell_type": "code",
   "execution_count": 15,
   "id": "2d06c837-12d0-419a-b132-cafd09b1c221",
   "metadata": {},
   "outputs": [
    {
     "name": "stdout",
     "output_type": "stream",
     "text": [
      "Shape : (7, 768)\n",
      "[[ 0.00848222  0.00836626 -0.02967997 ...  0.00860982 -0.0410819\n",
      "   0.00256639]\n",
      " [-0.0551771  -0.01340853 -0.03359561 ... -0.01553276  0.00358049\n",
      "  -0.0037684 ]\n",
      " [-0.03348316  0.00433433 -0.02988683 ... -0.00524339  0.02533281\n",
      "   0.00336217]\n",
      " ...\n",
      " [ 0.04009016 -0.05315267 -0.05048409 ...  0.02780198 -0.02067361\n",
      "   0.01399049]\n",
      " [-0.01205887  0.00141472 -0.02448857 ...  0.02541188 -0.07642936\n",
      "   0.06357682]\n",
      " [ 0.01457254 -0.02650255 -0.05243243 ...  0.00474664 -0.01937744\n",
      "   0.00399636]]\n"
     ]
    }
   ],
   "source": [
    "print(\"Shape : \" + str(embedding_array.shape))\n",
    "print(embedding_array)"
   ]
  },
  {
   "cell_type": "code",
   "execution_count": 16,
   "id": "e298112a-fac8-4c32-ad73-d37c49c62dc4",
   "metadata": {},
   "outputs": [],
   "source": [
    "# Reduce the high dim data to low dim using PCA\n",
    "# Perform PCA for 2D visualization\n",
    "\n",
    "from sklearn.decomposition import PCA\n",
    "\n",
    "PCA_model = PCA(n_components = 2)\n",
    "PCA_model.fit(embedding_array)\n",
    "new_values = PCA_model.transform(embedding_array)"
   ]
  },
  {
   "cell_type": "code",
   "execution_count": 17,
   "id": "e46c6498-249d-4575-8731-e7596497b0c3",
   "metadata": {},
   "outputs": [
    {
     "name": "stdout",
     "output_type": "stream",
     "text": [
      "Shape: (7, 2)\n",
      "[[ 0.37876705 -0.04326331]\n",
      " [ 0.36152641 -0.25299494]\n",
      " [ 0.33130998 -0.08953431]\n",
      " [-0.16780305  0.39842445]\n",
      " [-0.02711076  0.483813  ]\n",
      " [-0.4234599  -0.25245445]\n",
      " [-0.45322972 -0.24399045]]\n"
     ]
    }
   ],
   "source": [
    "print(\"Shape: \" + str(new_values.shape))\n",
    "print(new_values)"
   ]
  },
  {
   "cell_type": "markdown",
   "id": "2869fdeb-39ec-4d3d-b757-c079bed3f550",
   "metadata": {},
   "source": [
    "## Applications of Embeddings"
   ]
  },
  {
   "cell_type": "code",
   "execution_count": 6,
   "id": "a07e1d64-8130-4205-bcc3-798af4824c64",
   "metadata": {},
   "outputs": [],
   "source": [
    "from google.cloud import bigquery\n",
    "import pandas as pd"
   ]
  },
  {
   "cell_type": "code",
   "execution_count": 7,
   "id": "8df5f95c-8b89-406f-80aa-21e0da4f81ea",
   "metadata": {},
   "outputs": [],
   "source": [
    "def run_bq_query(sql):\n",
    "\n",
    "    # Create BQ client\n",
    "    bq_client = bigquery.Client(project = PROJECT_ID, \n",
    "                                credentials = credentials)\n",
    "\n",
    "    # Try dry run before executing query to catch any errors\n",
    "    job_config = bigquery.QueryJobConfig(dry_run=True, \n",
    "                                         use_query_cache=False)\n",
    "    bq_client.query(sql, job_config=job_config)\n",
    "\n",
    "    # If dry run succeeds without errors, proceed to run query\n",
    "    job_config = bigquery.QueryJobConfig()\n",
    "    client_result = bq_client.query(sql, \n",
    "                                    job_config=job_config)\n",
    "\n",
    "    job_id = client_result.job_id\n",
    "\n",
    "    # Wait for query/job to finish running. then get & return data frame\n",
    "    df = client_result.result().to_arrow().to_pandas()\n",
    "    print(f\"Finished job_id: {job_id}\")\n",
    "    return df"
   ]
  },
  {
   "cell_type": "code",
   "execution_count": 8,
   "id": "587549bf-047d-4f94-8b6e-72c2fc6affdb",
   "metadata": {},
   "outputs": [],
   "source": [
    "# define list of programming language tags we want to query\n",
    "\n",
    "language_list = [\"python\", \"html\", \"r\", \"css\"]"
   ]
  },
  {
   "cell_type": "code",
   "execution_count": 9,
   "id": "d1638512-d542-4a34-b03d-9fbb1d77e61f",
   "metadata": {},
   "outputs": [
    {
     "name": "stdout",
     "output_type": "stream",
     "text": [
      "generating python dataframe\n"
     ]
    },
    {
     "name": "stderr",
     "output_type": "stream",
     "text": [
      "/home/younis/.local/lib/python3.10/site-packages/google/cloud/bigquery/table.py:1727: UserWarning: BigQuery Storage module not found, fetch data with the REST endpoint instead.\n",
      "  warnings.warn(\n"
     ]
    },
    {
     "name": "stdout",
     "output_type": "stream",
     "text": [
      "Finished job_id: da15a0be-0a9b-49d8-8059-152a32aab0da\n",
      "generating html dataframe\n"
     ]
    },
    {
     "name": "stderr",
     "output_type": "stream",
     "text": [
      "/home/younis/.local/lib/python3.10/site-packages/google/cloud/bigquery/table.py:1727: UserWarning: BigQuery Storage module not found, fetch data with the REST endpoint instead.\n",
      "  warnings.warn(\n"
     ]
    },
    {
     "name": "stdout",
     "output_type": "stream",
     "text": [
      "Finished job_id: 541757bb-6a64-4d7f-8f6f-4d7988713114\n",
      "generating r dataframe\n"
     ]
    },
    {
     "name": "stderr",
     "output_type": "stream",
     "text": [
      "/home/younis/.local/lib/python3.10/site-packages/google/cloud/bigquery/table.py:1727: UserWarning: BigQuery Storage module not found, fetch data with the REST endpoint instead.\n",
      "  warnings.warn(\n"
     ]
    },
    {
     "name": "stdout",
     "output_type": "stream",
     "text": [
      "Finished job_id: c867a7bb-c207-40b8-959e-cfa834c48ce5\n",
      "generating css dataframe\n"
     ]
    },
    {
     "name": "stderr",
     "output_type": "stream",
     "text": [
      "/home/younis/.local/lib/python3.10/site-packages/google/cloud/bigquery/table.py:1727: UserWarning: BigQuery Storage module not found, fetch data with the REST endpoint instead.\n",
      "  warnings.warn(\n"
     ]
    },
    {
     "name": "stdout",
     "output_type": "stream",
     "text": [
      "Finished job_id: 995d0063-dadd-4145-b7e9-1ec5ae16a912\n"
     ]
    }
   ],
   "source": [
    "so_df = pd.DataFrame()\n",
    "\n",
    "for language in language_list:\n",
    "    \n",
    "    print(f\"generating {language} dataframe\")\n",
    "    \n",
    "    query = f\"\"\"\n",
    "    SELECT\n",
    "        CONCAT(q.title, q.body) as input_text,\n",
    "        a.body AS output_text\n",
    "    FROM\n",
    "        `bigquery-public-data.stackoverflow.posts_questions` q\n",
    "    JOIN\n",
    "        `bigquery-public-data.stackoverflow.posts_answers` a\n",
    "    ON\n",
    "        q.accepted_answer_id = a.id\n",
    "    WHERE \n",
    "        q.accepted_answer_id IS NOT NULL AND \n",
    "        REGEXP_CONTAINS(q.tags, \"{language}\") AND\n",
    "        a.creation_date >= \"2020-01-01\"\n",
    "    LIMIT \n",
    "        500\n",
    "    \"\"\"\n",
    "\n",
    "    \n",
    "    language_df = run_bq_query(query)\n",
    "    language_df[\"category\"] = language\n",
    "    so_df = pd.concat([so_df, language_df], \n",
    "                      ignore_index = True) "
   ]
  },
  {
   "cell_type": "code",
   "execution_count": 10,
   "id": "3c0a166e-be78-4bde-be90-3c29aed1cca9",
   "metadata": {},
   "outputs": [
    {
     "data": {
      "text/html": [
       "<div>\n",
       "<style scoped>\n",
       "    .dataframe tbody tr th:only-of-type {\n",
       "        vertical-align: middle;\n",
       "    }\n",
       "\n",
       "    .dataframe tbody tr th {\n",
       "        vertical-align: top;\n",
       "    }\n",
       "\n",
       "    .dataframe thead th {\n",
       "        text-align: right;\n",
       "    }\n",
       "</style>\n",
       "<table border=\"1\" class=\"dataframe\">\n",
       "  <thead>\n",
       "    <tr style=\"text-align: right;\">\n",
       "      <th></th>\n",
       "      <th>input_text</th>\n",
       "      <th>output_text</th>\n",
       "      <th>category</th>\n",
       "    </tr>\n",
       "  </thead>\n",
       "  <tbody>\n",
       "    <tr>\n",
       "      <th>0</th>\n",
       "      <td>How to scrape a webpage which has login if we ...</td>\n",
       "      <td>&lt;p&gt;It is usual for web sites to provide pre-po...</td>\n",
       "      <td>python</td>\n",
       "    </tr>\n",
       "    <tr>\n",
       "      <th>1</th>\n",
       "      <td>Kivy Slider Touch Input Area Too Large&lt;p&gt;I am ...</td>\n",
       "      <td>&lt;p&gt;If anyone is still looking for the answer, ...</td>\n",
       "      <td>python</td>\n",
       "    </tr>\n",
       "    <tr>\n",
       "      <th>2</th>\n",
       "      <td>What's the difference between Numpy's Structur...</td>\n",
       "      <td>&lt;p&gt;From &lt;a href=\"https://numpy.org/doc/stable/...</td>\n",
       "      <td>python</td>\n",
       "    </tr>\n",
       "    <tr>\n",
       "      <th>3</th>\n",
       "      <td>calculate number of non-missing counts in spec...</td>\n",
       "      <td>&lt;pre&gt;&lt;code&gt;df['Cnt'] = (\\n    df.filter(regex=...</td>\n",
       "      <td>python</td>\n",
       "    </tr>\n",
       "    <tr>\n",
       "      <th>4</th>\n",
       "      <td>Addition Django Channels to DRF&lt;p&gt;I'm tryna ad...</td>\n",
       "      <td>&lt;p&gt;Eventually I changed to &lt;code&gt;channels_redi...</td>\n",
       "      <td>python</td>\n",
       "    </tr>\n",
       "    <tr>\n",
       "      <th>...</th>\n",
       "      <td>...</td>\n",
       "      <td>...</td>\n",
       "      <td>...</td>\n",
       "    </tr>\n",
       "    <tr>\n",
       "      <th>1995</th>\n",
       "      <td>Loading in Images via jQuery prepend But After...</td>\n",
       "      <td>&lt;p&gt;You can use the jQuery &lt;code&gt;load&lt;/code&gt; ev...</td>\n",
       "      <td>css</td>\n",
       "    </tr>\n",
       "    <tr>\n",
       "      <th>1996</th>\n",
       "      <td>What is this popup thing when you hover over s...</td>\n",
       "      <td>&lt;p&gt;It's called a CSS Tooltip, and it is &amp;quot;...</td>\n",
       "      <td>css</td>\n",
       "    </tr>\n",
       "    <tr>\n",
       "      <th>1997</th>\n",
       "      <td>Text is blocked by element on Html page when u...</td>\n",
       "      <td>&lt;p&gt;You can solve this by giving &lt;code&gt;padding-...</td>\n",
       "      <td>css</td>\n",
       "    </tr>\n",
       "    <tr>\n",
       "      <th>1998</th>\n",
       "      <td>How to set X position of a flexbox in CSS?&lt;p&gt;a...</td>\n",
       "      <td>&lt;p&gt;First, if you write the same rule for the s...</td>\n",
       "      <td>css</td>\n",
       "    </tr>\n",
       "    <tr>\n",
       "      <th>1999</th>\n",
       "      <td>Change labels text color when input is active&lt;...</td>\n",
       "      <td>&lt;p&gt;You may put the following inside the Input&lt;...</td>\n",
       "      <td>css</td>\n",
       "    </tr>\n",
       "  </tbody>\n",
       "</table>\n",
       "<p>2000 rows × 3 columns</p>\n",
       "</div>"
      ],
      "text/plain": [
       "                                             input_text  \\\n",
       "0     How to scrape a webpage which has login if we ...   \n",
       "1     Kivy Slider Touch Input Area Too Large<p>I am ...   \n",
       "2     What's the difference between Numpy's Structur...   \n",
       "3     calculate number of non-missing counts in spec...   \n",
       "4     Addition Django Channels to DRF<p>I'm tryna ad...   \n",
       "...                                                 ...   \n",
       "1995  Loading in Images via jQuery prepend But After...   \n",
       "1996  What is this popup thing when you hover over s...   \n",
       "1997  Text is blocked by element on Html page when u...   \n",
       "1998  How to set X position of a flexbox in CSS?<p>a...   \n",
       "1999  Change labels text color when input is active<...   \n",
       "\n",
       "                                            output_text category  \n",
       "0     <p>It is usual for web sites to provide pre-po...   python  \n",
       "1     <p>If anyone is still looking for the answer, ...   python  \n",
       "2     <p>From <a href=\"https://numpy.org/doc/stable/...   python  \n",
       "3     <pre><code>df['Cnt'] = (\\n    df.filter(regex=...   python  \n",
       "4     <p>Eventually I changed to <code>channels_redi...   python  \n",
       "...                                                 ...      ...  \n",
       "1995  <p>You can use the jQuery <code>load</code> ev...      css  \n",
       "1996  <p>It's called a CSS Tooltip, and it is &quot;...      css  \n",
       "1997  <p>You can solve this by giving <code>padding-...      css  \n",
       "1998  <p>First, if you write the same rule for the s...      css  \n",
       "1999  <p>You may put the following inside the Input<...      css  \n",
       "\n",
       "[2000 rows x 3 columns]"
      ]
     },
     "execution_count": 10,
     "metadata": {},
     "output_type": "execute_result"
    }
   ],
   "source": [
    "so_df"
   ]
  },
  {
   "cell_type": "code",
   "execution_count": 34,
   "id": "db01d408-052e-46a5-8a43-9462a8b69e68",
   "metadata": {},
   "outputs": [],
   "source": [
    "so_df.to_csv('sample_data/so_database.csv')"
   ]
  },
  {
   "cell_type": "code",
   "execution_count": 21,
   "id": "d9e7fb28-90b6-423a-9e68-19d5c510614e",
   "metadata": {},
   "outputs": [],
   "source": [
    "# Generate embeddings\n",
    "# To generate embeddings for a dataset of texts, we'll need to group the sentences together in batches and send batches of texts to the model.\n",
    "# The API currently can take batches of up to 5 pieces of text per API call.\n",
    "\n",
    "from vertexai.language_models import TextEmbeddingModel"
   ]
  },
  {
   "cell_type": "code",
   "execution_count": 22,
   "id": "98b077e8-a9c6-40e1-8de1-4d0febe11508",
   "metadata": {},
   "outputs": [],
   "source": [
    "# load the model\n",
    "\n",
    "embedding_model = TextEmbeddingModel.from_pretrained(\n",
    "    \"textembedding-gecko\")"
   ]
  },
  {
   "cell_type": "code",
   "execution_count": 23,
   "id": "a8c83f2c-7cc7-4939-abfe-05fe8dcc3a5d",
   "metadata": {},
   "outputs": [],
   "source": [
    "import time\n",
    "import numpy as np"
   ]
  },
  {
   "cell_type": "code",
   "execution_count": 24,
   "id": "48102885-17c3-4bdc-afce-7c60b6d1c8d2",
   "metadata": {},
   "outputs": [],
   "source": [
    "# Generator function to yield batches of sentences\n",
    "\n",
    "def generate_batches(sentences, batch_size = 5):\n",
    "    for i in range(0, len(sentences), batch_size):\n",
    "        yield sentences[i : i + batch_size]"
   ]
  },
  {
   "cell_type": "code",
   "execution_count": 25,
   "id": "2f2c3a15-f3e2-4bef-a736-0b77d22e9779",
   "metadata": {},
   "outputs": [],
   "source": [
    "so_questions = so_df[0:200].input_text.tolist() \n",
    "batches = generate_batches(sentences = so_questions)"
   ]
  },
  {
   "cell_type": "code",
   "execution_count": 26,
   "id": "27b88949-2101-4835-b4f1-3e4133a6fce1",
   "metadata": {},
   "outputs": [
    {
     "data": {
      "text/plain": [
       "5"
      ]
     },
     "execution_count": 26,
     "metadata": {},
     "output_type": "execute_result"
    }
   ],
   "source": [
    "batch = next(batches)\n",
    "len(batch)"
   ]
  },
  {
   "cell_type": "code",
   "execution_count": 27,
   "id": "e8323ea4-6dd9-4495-89d2-169bc122b8d0",
   "metadata": {},
   "outputs": [],
   "source": [
    "# Get embeddings on a batch of data\n",
    "def encode_texts_to_embeddings(sentences):\n",
    "    try:\n",
    "        embeddings = model.get_embeddings(sentences)\n",
    "        return [embedding.values for embedding in embeddings]\n",
    "    except Exception:\n",
    "        return [None for _ in range(len(sentences))]"
   ]
  },
  {
   "cell_type": "code",
   "execution_count": 28,
   "id": "a7c67192-71e6-45c7-815f-c748f475f676",
   "metadata": {},
   "outputs": [],
   "source": [
    "batch_embeddings = encode_texts_to_embeddings(batch)"
   ]
  },
  {
   "cell_type": "raw",
   "id": "be10cfad-5ea9-4dbe-86ff-e302738d13cd",
   "metadata": {},
   "source": [
    "Now we can use these embeddigs for anomoly detection, classification, clustering etc"
   ]
  },
  {
   "cell_type": "markdown",
   "id": "de8b2d78-a9d9-4e6f-858d-fdd672fed7a4",
   "metadata": {},
   "source": [
    "## QA system using Semantic Search"
   ]
  },
  {
   "cell_type": "raw",
   "id": "23e7e6ae-0eb4-420f-87b6-03af46a528ed",
   "metadata": {},
   "source": [
    "- Grounding LLMs\n",
    "    - LLMs are not connected to the real world, no access to the information that is outside their trainig data\n",
    "    - Answer questions about the specific domain\n",
    "    - Integrate with existing IT systems, databases and business data\n",
    "    - Mitgate risk of hallucinations"
   ]
  },
  {
   "cell_type": "code",
   "execution_count": 36,
   "id": "21b2913c-f814-4462-8191-152af08a589e",
   "metadata": {},
   "outputs": [],
   "source": [
    "so_database = pd.read_csv('sample_data/so_database.csv')"
   ]
  },
  {
   "cell_type": "code",
   "execution_count": 37,
   "id": "d07e3160-0170-4fe9-87f1-96586de02f22",
   "metadata": {},
   "outputs": [
    {
     "name": "stdout",
     "output_type": "stream",
     "text": [
      "Shape: (2000, 4)\n",
      "      Unnamed: 0                                         input_text  \\\n",
      "0              0  How to scrape a webpage which has login if we ...   \n",
      "1              1  Kivy Slider Touch Input Area Too Large<p>I am ...   \n",
      "2              2  What's the difference between Numpy's Structur...   \n",
      "3              3  calculate number of non-missing counts in spec...   \n",
      "4              4  Addition Django Channels to DRF<p>I'm tryna ad...   \n",
      "...          ...                                                ...   \n",
      "1995        1995  Loading in Images via jQuery prepend But After...   \n",
      "1996        1996  What is this popup thing when you hover over s...   \n",
      "1997        1997  Text is blocked by element on Html page when u...   \n",
      "1998        1998  How to set X position of a flexbox in CSS?<p>a...   \n",
      "1999        1999  Change labels text color when input is active<...   \n",
      "\n",
      "                                            output_text category  \n",
      "0     <p>It is usual for web sites to provide pre-po...   python  \n",
      "1     <p>If anyone is still looking for the answer, ...   python  \n",
      "2     <p>From <a href=\"https://numpy.org/doc/stable/...   python  \n",
      "3     <pre><code>df['Cnt'] = (\\n    df.filter(regex=...   python  \n",
      "4     <p>Eventually I changed to <code>channels_redi...   python  \n",
      "...                                                 ...      ...  \n",
      "1995  <p>You can use the jQuery <code>load</code> ev...      css  \n",
      "1996  <p>It's called a CSS Tooltip, and it is &quot;...      css  \n",
      "1997  <p>You can solve this by giving <code>padding-...      css  \n",
      "1998  <p>First, if you write the same rule for the s...      css  \n",
      "1999  <p>You may put the following inside the Input<...      css  \n",
      "\n",
      "[2000 rows x 4 columns]\n"
     ]
    }
   ],
   "source": [
    "print(\"Shape: \" + str(so_database.shape))\n",
    "print(so_database)"
   ]
  },
  {
   "cell_type": "code",
   "execution_count": 38,
   "id": "1d48e6b3-ef40-424f-8e37-8f0f3cd99fdc",
   "metadata": {},
   "outputs": [
    {
     "ename": "ImportError",
     "evalue": "cannot import name 'encode_text_to_embedding_batched' from 'utils' (/home/younis/.local/lib/python3.10/site-packages/utils/__init__.py)",
     "output_type": "error",
     "traceback": [
      "\u001b[0;31m---------------------------------------------------------------------------\u001b[0m",
      "\u001b[0;31mImportError\u001b[0m                               Traceback (most recent call last)",
      "Cell \u001b[0;32mIn[38], line 3\u001b[0m\n\u001b[1;32m      1\u001b[0m \u001b[38;5;66;03m# load question embeddings\u001b[39;00m\n\u001b[1;32m      2\u001b[0m \u001b[38;5;28;01mimport\u001b[39;00m \u001b[38;5;21;01mnumpy\u001b[39;00m \u001b[38;5;28;01mas\u001b[39;00m \u001b[38;5;21;01mnp\u001b[39;00m\n\u001b[0;32m----> 3\u001b[0m \u001b[38;5;28;01mfrom\u001b[39;00m \u001b[38;5;21;01mutils\u001b[39;00m \u001b[38;5;28;01mimport\u001b[39;00m encode_text_to_embedding_batched\n",
      "\u001b[0;31mImportError\u001b[0m: cannot import name 'encode_text_to_embedding_batched' from 'utils' (/home/younis/.local/lib/python3.10/site-packages/utils/__init__.py)"
     ]
    }
   ],
   "source": [
    "# load question embeddings\n",
    "import numpy as np\n",
    "from utils import encode_text_to_embedding_batched"
   ]
  },
  {
   "cell_type": "code",
   "execution_count": null,
   "id": "1ed35c21-222b-4363-a2fa-711d6f2f5e0f",
   "metadata": {},
   "outputs": [],
   "source": []
  },
  {
   "cell_type": "code",
   "execution_count": null,
   "id": "80187664-09f6-459a-a17e-568f8e0994f6",
   "metadata": {},
   "outputs": [],
   "source": []
  },
  {
   "cell_type": "code",
   "execution_count": null,
   "id": "3e944279-b511-4cfe-8ce7-dd6a31c53099",
   "metadata": {},
   "outputs": [],
   "source": []
  },
  {
   "cell_type": "code",
   "execution_count": null,
   "id": "3db516f0-86fa-466a-9e79-a9d518fa25f9",
   "metadata": {},
   "outputs": [],
   "source": []
  },
  {
   "cell_type": "code",
   "execution_count": null,
   "id": "6c1cc90a-c8f3-4c93-bcd4-d463d34e6f47",
   "metadata": {},
   "outputs": [],
   "source": []
  },
  {
   "cell_type": "code",
   "execution_count": null,
   "id": "3393be73-2b53-4065-b1e4-fda0c93eef27",
   "metadata": {},
   "outputs": [],
   "source": []
  },
  {
   "cell_type": "code",
   "execution_count": null,
   "id": "8654d321-91ad-4880-9c72-2ae6d03ac2a4",
   "metadata": {},
   "outputs": [],
   "source": []
  },
  {
   "cell_type": "code",
   "execution_count": null,
   "id": "3b8537e0-a448-42ce-932d-fe299adcd3fb",
   "metadata": {},
   "outputs": [],
   "source": []
  },
  {
   "cell_type": "code",
   "execution_count": null,
   "id": "45864938-717a-4383-8e23-b50774122daa",
   "metadata": {},
   "outputs": [],
   "source": []
  }
 ],
 "metadata": {
  "kernelspec": {
   "display_name": "Python 3 (ipykernel)",
   "language": "python",
   "name": "python3"
  },
  "language_info": {
   "codemirror_mode": {
    "name": "ipython",
    "version": 3
   },
   "file_extension": ".py",
   "mimetype": "text/x-python",
   "name": "python",
   "nbconvert_exporter": "python",
   "pygments_lexer": "ipython3",
   "version": "3.10.12"
  }
 },
 "nbformat": 4,
 "nbformat_minor": 5
}
