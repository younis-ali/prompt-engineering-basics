{
 "cells": [
  {
   "cell_type": "markdown",
   "id": "ab4b4946-d4d4-41e8-9d30-096838be0442",
   "metadata": {},
   "source": [
    "# Initial Steps"
   ]
  },
  {
   "cell_type": "markdown",
   "id": "9caa9912-40e9-4a6a-8e11-c9462d691ab1",
   "metadata": {},
   "source": [
    "## Install Dependencies"
   ]
  },
  {
   "cell_type": "code",
   "execution_count": 38,
   "id": "7245b32a-7a1f-4870-a39c-faff2e8b4e1e",
   "metadata": {
    "scrolled": true
   },
   "outputs": [
    {
     "name": "stdout",
     "output_type": "stream",
     "text": [
      "Defaulting to user installation because normal site-packages is not writeable\n",
      "\u001b[33mWARNING: Ignoring invalid distribution -orchvision (/home/younis/.local/lib/python3.10/site-packages)\u001b[0m\u001b[33m\n",
      "\u001b[0m\u001b[33mWARNING: Ignoring invalid distribution -orchvision (/home/younis/.local/lib/python3.10/site-packages)\u001b[0m\u001b[33m\n",
      "\u001b[0mCollecting ipympl\n",
      "  Downloading ipympl-0.9.4-py3-none-any.whl.metadata (8.7 kB)\n",
      "Requirement already satisfied: ipython-genutils in /usr/lib/python3/dist-packages (from ipympl) (0.2.0)\n",
      "Requirement already satisfied: ipython<9 in /home/younis/.local/lib/python3.10/site-packages (from ipympl) (8.12.3)\n",
      "Requirement already satisfied: ipywidgets<9,>=7.6.0 in /home/younis/.local/lib/python3.10/site-packages (from ipympl) (8.1.2)\n",
      "Requirement already satisfied: matplotlib<4,>=3.4.0 in /home/younis/.local/lib/python3.10/site-packages (from ipympl) (3.9.0)\n",
      "Requirement already satisfied: numpy in /home/younis/.local/lib/python3.10/site-packages (from ipympl) (1.23.1)\n",
      "Requirement already satisfied: pillow in /home/younis/.local/lib/python3.10/site-packages (from ipympl) (10.0.1)\n",
      "Requirement already satisfied: traitlets<6 in /home/younis/.local/lib/python3.10/site-packages (from ipympl) (5.14.3)\n",
      "Requirement already satisfied: backcall in /home/younis/.local/lib/python3.10/site-packages (from ipython<9->ipympl) (0.2.0)\n",
      "Requirement already satisfied: decorator in /home/younis/.local/lib/python3.10/site-packages (from ipython<9->ipympl) (5.1.1)\n",
      "Requirement already satisfied: jedi>=0.16 in /home/younis/.local/lib/python3.10/site-packages (from ipython<9->ipympl) (0.19.1)\n",
      "Requirement already satisfied: matplotlib-inline in /home/younis/.local/lib/python3.10/site-packages (from ipython<9->ipympl) (0.1.7)\n",
      "Requirement already satisfied: pickleshare in /home/younis/.local/lib/python3.10/site-packages (from ipython<9->ipympl) (0.7.5)\n",
      "Requirement already satisfied: prompt-toolkit!=3.0.37,<3.1.0,>=3.0.30 in /home/younis/.local/lib/python3.10/site-packages (from ipython<9->ipympl) (3.0.43)\n",
      "Requirement already satisfied: pygments>=2.4.0 in /home/younis/.local/lib/python3.10/site-packages (from ipython<9->ipympl) (2.17.2)\n",
      "Requirement already satisfied: stack-data in /home/younis/.local/lib/python3.10/site-packages (from ipython<9->ipympl) (0.6.3)\n",
      "Requirement already satisfied: pexpect>4.3 in /usr/lib/python3/dist-packages (from ipython<9->ipympl) (4.8.0)\n",
      "Requirement already satisfied: comm>=0.1.3 in /home/younis/.local/lib/python3.10/site-packages (from ipywidgets<9,>=7.6.0->ipympl) (0.2.2)\n",
      "Requirement already satisfied: widgetsnbextension~=4.0.10 in /home/younis/.local/lib/python3.10/site-packages (from ipywidgets<9,>=7.6.0->ipympl) (4.0.10)\n",
      "Requirement already satisfied: jupyterlab-widgets~=3.0.10 in /home/younis/.local/lib/python3.10/site-packages (from ipywidgets<9,>=7.6.0->ipympl) (3.0.10)\n",
      "Requirement already satisfied: contourpy>=1.0.1 in /home/younis/.local/lib/python3.10/site-packages (from matplotlib<4,>=3.4.0->ipympl) (1.2.1)\n",
      "Requirement already satisfied: cycler>=0.10 in /home/younis/.local/lib/python3.10/site-packages (from matplotlib<4,>=3.4.0->ipympl) (0.12.1)\n",
      "Requirement already satisfied: fonttools>=4.22.0 in /home/younis/.local/lib/python3.10/site-packages (from matplotlib<4,>=3.4.0->ipympl) (4.52.1)\n",
      "Requirement already satisfied: kiwisolver>=1.3.1 in /home/younis/.local/lib/python3.10/site-packages (from matplotlib<4,>=3.4.0->ipympl) (1.4.5)\n",
      "Requirement already satisfied: packaging>=20.0 in /home/younis/.local/lib/python3.10/site-packages (from matplotlib<4,>=3.4.0->ipympl) (23.2)\n",
      "Requirement already satisfied: pyparsing>=2.3.1 in /usr/lib/python3/dist-packages (from matplotlib<4,>=3.4.0->ipympl) (2.4.7)\n",
      "Requirement already satisfied: python-dateutil>=2.7 in /home/younis/.local/lib/python3.10/site-packages (from matplotlib<4,>=3.4.0->ipympl) (2.9.0.post0)\n",
      "Requirement already satisfied: parso<0.9.0,>=0.8.3 in /home/younis/.local/lib/python3.10/site-packages (from jedi>=0.16->ipython<9->ipympl) (0.8.4)\n",
      "Requirement already satisfied: wcwidth in /home/younis/.local/lib/python3.10/site-packages (from prompt-toolkit!=3.0.37,<3.1.0,>=3.0.30->ipython<9->ipympl) (0.2.13)\n",
      "Requirement already satisfied: six>=1.5 in /usr/lib/python3/dist-packages (from python-dateutil>=2.7->matplotlib<4,>=3.4.0->ipympl) (1.16.0)\n",
      "Requirement already satisfied: executing>=1.2.0 in /home/younis/.local/lib/python3.10/site-packages (from stack-data->ipython<9->ipympl) (2.0.1)\n",
      "Requirement already satisfied: asttokens>=2.1.0 in /home/younis/.local/lib/python3.10/site-packages (from stack-data->ipython<9->ipympl) (2.4.1)\n",
      "Requirement already satisfied: pure-eval in /home/younis/.local/lib/python3.10/site-packages (from stack-data->ipython<9->ipympl) (0.2.2)\n",
      "Downloading ipympl-0.9.4-py3-none-any.whl (516 kB)\n",
      "\u001b[33mWARNING: Ignoring invalid distribution -orchvision (/home/younis/.local/lib/python3.10/site-packages)\u001b[0m\u001b[33m\n",
      "\u001b[0mInstalling collected packages: ipympl\n",
      "\u001b[33mWARNING: Ignoring invalid distribution -orchvision (/home/younis/.local/lib/python3.10/site-packages)\u001b[0m\u001b[33m\n",
      "\u001b[0mSuccessfully installed ipympl-0.9.4\n"
     ]
    }
   ],
   "source": [
    "# !pip install --upgrade pip\n",
    "# !pip install google-cloud-aiplatform\n",
    "# !pip install scikit-learn\n",
    "# !pip install mplcursors\n",
    "!pip install ipympl"
   ]
  },
  {
   "cell_type": "code",
   "execution_count": 49,
   "id": "b15494c2-181b-49e3-828a-2784d2bfdac1",
   "metadata": {},
   "outputs": [],
   "source": [
    "# %cd ..\n",
    "# !ls\n",
    "!source llm-venv/bin/activate"
   ]
  },
  {
   "cell_type": "markdown",
   "id": "778fc50f-ae83-430b-aea1-4b57867c5f93",
   "metadata": {},
   "source": [
    "## Setup GCP and VertexAI"
   ]
  },
  {
   "cell_type": "code",
   "execution_count": 4,
   "id": "3c8f18cd-c311-4d9f-9b6c-87b05a7a35d8",
   "metadata": {},
   "outputs": [],
   "source": [
    "import json\n",
    "with open(\"../resources/config.json\") as f:\n",
    "    config = json.load(f)\n",
    "    "
   ]
  },
  {
   "cell_type": "code",
   "execution_count": 5,
   "id": "ef1c154b-1ffc-4111-ae7d-60ad4ba0660d",
   "metadata": {},
   "outputs": [],
   "source": [
    "from google.auth.transport.requests import Request\n",
    "from google.oauth2.service_account import Credentials"
   ]
  },
  {
   "cell_type": "code",
   "execution_count": 7,
   "id": "d4f5605d-0b30-45f7-b055-1f322e6672e0",
   "metadata": {},
   "outputs": [],
   "source": [
    "# Path to your service account key file\n",
    "key_path = \"../resources/keys.json\" #Path to the json key associated with your service account from google cloud"
   ]
  },
  {
   "cell_type": "code",
   "execution_count": 8,
   "id": "f14e6562-e2b1-4352-a6f9-e82acbc40652",
   "metadata": {},
   "outputs": [],
   "source": [
    "# Create credentials object\n",
    "\n",
    "credentials = Credentials.from_service_account_file(\n",
    "    key_path,\n",
    "    scopes=['https://www.googleapis.com/auth/cloud-platform'])\n",
    "\n",
    "if credentials.expired:\n",
    "    credentials.refresh(Request())"
   ]
  },
  {
   "cell_type": "code",
   "execution_count": 9,
   "id": "1e2c7ff8-3fec-4e53-a526-2141664b9881",
   "metadata": {},
   "outputs": [],
   "source": [
    "# Connect to vertexAI\n",
    "import vertexai\n",
    "\n",
    "PROJECT_ID = config['gcp']['project_id']\n",
    "REGION = config['gcp']['region']\n",
    "\n",
    "# initialize vertex\n",
    "vertexai.init(project = PROJECT_ID, location = REGION, credentials = credentials)"
   ]
  },
  {
   "cell_type": "markdown",
   "id": "e0cdbbd6-bcce-4b53-9c51-c97f20c61716",
   "metadata": {},
   "source": [
    "## Get start with text embeddings"
   ]
  },
  {
   "cell_type": "code",
   "execution_count": 10,
   "id": "ba15dca0-2ce5-4f4b-bb2e-c020772ead80",
   "metadata": {},
   "outputs": [],
   "source": [
    "from vertexai.language_models import TextEmbeddingModel"
   ]
  },
  {
   "cell_type": "code",
   "execution_count": 11,
   "id": "7cb5df6c-fb5f-4b14-9891-67cf4357a461",
   "metadata": {},
   "outputs": [],
   "source": [
    "# load the model\n",
    "\n",
    "embedding_model = TextEmbeddingModel.from_pretrained(\n",
    "    \"textembedding-gecko\")"
   ]
  },
  {
   "cell_type": "code",
   "execution_count": 8,
   "id": "9cadc896-ae56-4636-822d-5c94d4d5172f",
   "metadata": {},
   "outputs": [],
   "source": [
    "# Generate word embeddigs\n",
    "# The returned object is a list with a single TextEmbedding object.\n",
    "# The TextEmbedding.values field stores the embeddings in a Python list.\n",
    "\n",
    "embedding = embedding_model.get_embeddings(\n",
    "    [\"life\"]\n",
    ")"
   ]
  },
  {
   "cell_type": "code",
   "execution_count": 10,
   "id": "dfc7df60-465e-40e3-ade4-7c4a334b7b20",
   "metadata": {},
   "outputs": [
    {
     "name": "stdout",
     "output_type": "stream",
     "text": [
      "Length of vector = 768\n",
      "[0.013755870051681995, -0.03912805765867233, -0.008546194061636925, -0.02595570497214794, 0.01972811669111252, -0.014042137190699577, -0.006056010257452726, -0.010783486068248749, -0.0036132442764937878, -0.00030527994385920465]\n"
     ]
    }
   ],
   "source": [
    "# The TextEmbedding.values field stores the embeddings in a Python list.\n",
    "vector = embedding[0].values\n",
    "\n",
    "print(f\"Length of vector = {len(vector)}\")\n",
    "print(vector[:10])"
   ]
  },
  {
   "cell_type": "code",
   "execution_count": 22,
   "id": "4c03ccd7-2c0b-4a33-a11b-131a174d1248",
   "metadata": {},
   "outputs": [],
   "source": [
    "# Generate sentence embeddings\n",
    "sen1 = [\"what computer system\"]\n",
    "sen2 = [\"Explain life\"]\n",
    "\n",
    "emb1 = embedding_model.get_embeddings(sen1)\n",
    "emb2 = embedding_model.get_embeddings(sen2)"
   ]
  },
  {
   "cell_type": "code",
   "execution_count": 23,
   "id": "3cb4dfd1-ea9e-4e19-9dea-6ac64942dca9",
   "metadata": {},
   "outputs": [],
   "source": [
    "# compare two embeddings\n",
    "from sklearn.metrics.pairwise import cosine_similarity\n",
    "\n",
    "# first get the vectors\n",
    "vec1 = [emb1[0].values]\n",
    "vec2 = [emb2[0].values]"
   ]
  },
  {
   "cell_type": "code",
   "execution_count": 24,
   "id": "7cf3c12e-c985-4d31-9838-c83fe1275712",
   "metadata": {},
   "outputs": [
    {
     "name": "stdout",
     "output_type": "stream",
     "text": [
      "[[0.55529533]]\n"
     ]
    }
   ],
   "source": [
    "print(cosine_similarity(vec1,vec2))"
   ]
  },
  {
   "cell_type": "markdown",
   "id": "c3a392f4-797e-452a-87a2-cf8b2c56ffbe",
   "metadata": {},
   "source": [
    "## Understand Embeddings"
   ]
  },
  {
   "cell_type": "raw",
   "id": "4779dd07-ee4e-4198-aeb5-658805431377",
   "metadata": {},
   "source": [
    "- Embedding is a way of representing data as points in space where the locations are semantically meaningful\n",
    "- How embeddigs are computed\n",
    "    - Simple Method: Embed each word separately, and then take mean of all the embedings.\n",
    "    - Modern Embeddings: \n",
    "        - Use a transformer neural network to compute context-aware representation of each word, then take avarage.\n",
    "        - Compute embeddings for each token (sub-word) that is the base or novel words.    \n",
    "    "
   ]
  },
  {
   "cell_type": "markdown",
   "id": "a7cbe470-c4f1-4565-818f-bd21b4860a73",
   "metadata": {},
   "source": [
    "## Visualizing Embeddings"
   ]
  },
  {
   "cell_type": "code",
   "execution_count": 12,
   "id": "edd5424c-848c-484a-9e40-6b8e54e8bd4d",
   "metadata": {},
   "outputs": [],
   "source": [
    "in_1 = \"Missing flamingo discovered at swimming pool\"\n",
    "\n",
    "in_2 = \"Sea otter spotted on surfboard by beach\"\n",
    "\n",
    "in_3 = \"Baby panda enjoys boat ride\"\n",
    "\n",
    "\n",
    "in_4 = \"Breakfast themed food truck beloved by all!\"\n",
    "\n",
    "in_5 = \"New curry restaurant aims to please!\"\n",
    "\n",
    "\n",
    "in_6 = \"Python developers are wonderful people\"\n",
    "\n",
    "in_7 = \"TypeScript, C++ or Java? All are great!\" \n",
    "\n",
    "\n",
    "input_text_lst_news = [in_1, in_2, in_3, in_4, in_5, in_6, in_7]"
   ]
  },
  {
   "cell_type": "code",
   "execution_count": 13,
   "id": "e7fe67a1-5f5a-4db4-90ba-dc57ca667df6",
   "metadata": {},
   "outputs": [],
   "source": [
    "import numpy as np"
   ]
  },
  {
   "cell_type": "code",
   "execution_count": 14,
   "id": "032b0301-8ded-415c-a216-1b3407831b8f",
   "metadata": {},
   "outputs": [],
   "source": [
    "embeddings = []\n",
    "for inp_text in input_text_lst_news:\n",
    "    emb = embedding_model.get_embeddings(\n",
    "        [inp_text])[0].values\n",
    "    embeddings.append(emb)\n",
    "\n",
    "embedding_array = np.array(embeddings)"
   ]
  },
  {
   "cell_type": "code",
   "execution_count": 15,
   "id": "2d06c837-12d0-419a-b132-cafd09b1c221",
   "metadata": {},
   "outputs": [
    {
     "name": "stdout",
     "output_type": "stream",
     "text": [
      "Shape : (7, 768)\n",
      "[[ 0.00848222  0.00836626 -0.02967997 ...  0.00860982 -0.0410819\n",
      "   0.00256639]\n",
      " [-0.0551771  -0.01340853 -0.03359561 ... -0.01553276  0.00358049\n",
      "  -0.0037684 ]\n",
      " [-0.03348316  0.00433433 -0.02988683 ... -0.00524339  0.02533281\n",
      "   0.00336217]\n",
      " ...\n",
      " [ 0.04009016 -0.05315267 -0.05048409 ...  0.02780198 -0.02067361\n",
      "   0.01399049]\n",
      " [-0.01205887  0.00141472 -0.02448857 ...  0.02541188 -0.07642936\n",
      "   0.06357682]\n",
      " [ 0.01457254 -0.02650255 -0.05243243 ...  0.00474664 -0.01937744\n",
      "   0.00399636]]\n"
     ]
    }
   ],
   "source": [
    "print(\"Shape : \" + str(embedding_array.shape))\n",
    "print(embedding_array)"
   ]
  },
  {
   "cell_type": "code",
   "execution_count": 16,
   "id": "e298112a-fac8-4c32-ad73-d37c49c62dc4",
   "metadata": {},
   "outputs": [],
   "source": [
    "# Reduce the high dim data to low dim using PCA\n",
    "# Perform PCA for 2D visualization\n",
    "\n",
    "from sklearn.decomposition import PCA\n",
    "\n",
    "PCA_model = PCA(n_components = 2)\n",
    "PCA_model.fit(embedding_array)\n",
    "new_values = PCA_model.transform(embedding_array)"
   ]
  },
  {
   "cell_type": "code",
   "execution_count": 17,
   "id": "e46c6498-249d-4575-8731-e7596497b0c3",
   "metadata": {},
   "outputs": [
    {
     "name": "stdout",
     "output_type": "stream",
     "text": [
      "Shape: (7, 2)\n",
      "[[ 0.37876705 -0.04326331]\n",
      " [ 0.36152641 -0.25299494]\n",
      " [ 0.33130998 -0.08953431]\n",
      " [-0.16780305  0.39842445]\n",
      " [-0.02711076  0.483813  ]\n",
      " [-0.4234599  -0.25245445]\n",
      " [-0.45322972 -0.24399045]]\n"
     ]
    }
   ],
   "source": [
    "print(\"Shape: \" + str(new_values.shape))\n",
    "print(new_values)"
   ]
  },
  {
   "cell_type": "code",
   "execution_count": null,
   "id": "0940bae1-74cb-43a9-97a6-d4306522a61d",
   "metadata": {},
   "outputs": [],
   "source": []
  },
  {
   "cell_type": "code",
   "execution_count": null,
   "id": "a07e1d64-8130-4205-bcc3-798af4824c64",
   "metadata": {},
   "outputs": [],
   "source": []
  }
 ],
 "metadata": {
  "kernelspec": {
   "display_name": "Python 3 (ipykernel)",
   "language": "python",
   "name": "python3"
  },
  "language_info": {
   "codemirror_mode": {
    "name": "ipython",
    "version": 3
   },
   "file_extension": ".py",
   "mimetype": "text/x-python",
   "name": "python",
   "nbconvert_exporter": "python",
   "pygments_lexer": "ipython3",
   "version": "3.10.12"
  }
 },
 "nbformat": 4,
 "nbformat_minor": 5
}
