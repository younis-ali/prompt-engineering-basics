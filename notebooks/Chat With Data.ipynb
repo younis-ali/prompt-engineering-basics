{
 "cells": [
  {
   "cell_type": "markdown",
   "id": "b95657b6-b1b4-45aa-bdb8-597cabe25c9c",
   "metadata": {
    "jp-MarkdownHeadingCollapsed": true
   },
   "source": [
    "# Initial Steps"
   ]
  },
  {
   "cell_type": "markdown",
   "id": "d5bd3181-820e-4dcd-adac-27313a05a0dc",
   "metadata": {
    "jp-MarkdownHeadingCollapsed": true
   },
   "source": [
    "## Install Dependencies"
   ]
  },
  {
   "cell_type": "code",
   "execution_count": null,
   "id": "87d587a1-699a-438f-b3c1-04bf364096f7",
   "metadata": {},
   "outputs": [],
   "source": [
    "# !pip install openai\n",
    "# !python -m pip install python-dotenv\n",
    "# !pip install readline\n",
    "# !pip install panel\n",
    "# !pip install --upgrade langchain"
   ]
  },
  {
   "cell_type": "markdown",
   "id": "51394974-e4cd-4cb1-97bc-b7e660f4013d",
   "metadata": {},
   "source": [
    "## Setup"
   ]
  },
  {
   "cell_type": "code",
   "execution_count": 2,
   "id": "11a8b08c-4617-46bb-bd1b-9f48bc15466a",
   "metadata": {},
   "outputs": [],
   "source": [
    "import json\n",
    "with open(\"../config.json\") as f:\n",
    "    config = json.load(f)"
   ]
  },
  {
   "cell_type": "markdown",
   "id": "2096eb99-eb20-4ea9-9e84-080528370b25",
   "metadata": {},
   "source": [
    "# Chat with data"
   ]
  },
  {
   "cell_type": "code",
   "execution_count": 4,
   "id": "749c7a67-e81d-40df-86de-7572ef521fac",
   "metadata": {},
   "outputs": [],
   "source": [
    "# Function for to hit api\n",
    "from openai import OpenAI\n",
    "\n",
    "client = OpenAI(api_key=config['openai_api_key'])\n",
    "model = \"gpt-3.5-turbo\"\n",
    "\n",
    "def get_completion(prompt): \n",
    "    completion = client.chat.completions.create(\n",
    "        model=model,\n",
    "        messages=[{\"role\": \"user\", \"content\": prompt}]\n",
    "    )\n",
    "    return completion.choices[0].message.content"
   ]
  },
  {
   "cell_type": "code",
   "execution_count": null,
   "id": "60d819b6-0206-46bd-add3-f70c18f34ead",
   "metadata": {},
   "outputs": [],
   "source": []
  },
  {
   "cell_type": "code",
   "execution_count": null,
   "id": "a9a137a3-fd94-4c54-9a49-e04b3059e7fd",
   "metadata": {},
   "outputs": [],
   "source": []
  },
  {
   "cell_type": "code",
   "execution_count": null,
   "id": "0258bf09-d802-4f83-bfb3-1488775590ac",
   "metadata": {},
   "outputs": [],
   "source": []
  },
  {
   "cell_type": "code",
   "execution_count": null,
   "id": "5d42f13e-d583-4c7b-b452-6812bfc8b55a",
   "metadata": {},
   "outputs": [],
   "source": []
  },
  {
   "cell_type": "code",
   "execution_count": null,
   "id": "f973e48c-9afd-4a15-9172-9760865fe1ce",
   "metadata": {},
   "outputs": [],
   "source": []
  },
  {
   "cell_type": "code",
   "execution_count": null,
   "id": "d6b454ad-0651-41d2-b0fd-7e34be2fb43e",
   "metadata": {},
   "outputs": [],
   "source": []
  },
  {
   "cell_type": "code",
   "execution_count": null,
   "id": "789eb8b4-6cef-4ba3-836a-6eae3ae8c8d8",
   "metadata": {},
   "outputs": [],
   "source": []
  },
  {
   "cell_type": "code",
   "execution_count": null,
   "id": "906f7b6b-da05-42c6-a464-d2550bdcff41",
   "metadata": {},
   "outputs": [],
   "source": []
  },
  {
   "cell_type": "code",
   "execution_count": null,
   "id": "91e3efcc-11d1-49df-9527-f92efaab039b",
   "metadata": {},
   "outputs": [],
   "source": []
  },
  {
   "cell_type": "code",
   "execution_count": null,
   "id": "b8a2c97e-79ac-4ab7-baf1-5b5a813a7e7a",
   "metadata": {},
   "outputs": [],
   "source": []
  },
  {
   "cell_type": "code",
   "execution_count": null,
   "id": "1ab122d5-1354-45ff-89e1-c9a23d28fdac",
   "metadata": {},
   "outputs": [],
   "source": []
  },
  {
   "cell_type": "code",
   "execution_count": null,
   "id": "841262cc-d7cf-4620-8af2-e9ba933271ca",
   "metadata": {},
   "outputs": [],
   "source": []
  },
  {
   "cell_type": "code",
   "execution_count": null,
   "id": "98c2e536-c225-4a83-88b0-7bb4fe68f639",
   "metadata": {},
   "outputs": [],
   "source": []
  },
  {
   "cell_type": "code",
   "execution_count": null,
   "id": "3a251e5d-731a-470b-b82c-b16fe62e5357",
   "metadata": {},
   "outputs": [],
   "source": []
  },
  {
   "cell_type": "code",
   "execution_count": null,
   "id": "b6bb02e7-a756-4ae9-ac82-d956f6a0c181",
   "metadata": {},
   "outputs": [],
   "source": []
  },
  {
   "cell_type": "code",
   "execution_count": null,
   "id": "3c36f09a-90cd-4dd2-b141-8315e6b32aae",
   "metadata": {},
   "outputs": [],
   "source": []
  }
 ],
 "metadata": {
  "kernelspec": {
   "display_name": "Python 3 (ipykernel)",
   "language": "python",
   "name": "python3"
  },
  "language_info": {
   "codemirror_mode": {
    "name": "ipython",
    "version": 3
   },
   "file_extension": ".py",
   "mimetype": "text/x-python",
   "name": "python",
   "nbconvert_exporter": "python",
   "pygments_lexer": "ipython3",
   "version": "3.10.12"
  }
 },
 "nbformat": 4,
 "nbformat_minor": 5
}
